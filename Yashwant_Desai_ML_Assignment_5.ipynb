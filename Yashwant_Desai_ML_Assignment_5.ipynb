{
 "cells": [
  {
   "cell_type": "markdown",
   "id": "0c27a818",
   "metadata": {},
   "source": [
    "# Yashwant Desai –  ML_Assignment_5"
   ]
  },
  {
   "cell_type": "markdown",
   "id": "063a7bf2",
   "metadata": {},
   "source": [
    "# 1. What are the key tasks that machine learning entails? What does data pre-processing imply?"
   ]
  },
  {
   "cell_type": "markdown",
   "id": "23da165b",
   "metadata": {},
   "source": [
    "Machine learning tasks include data collection, data pre-processing, model selection, training, evaluation, and deployment. \n",
    "\n",
    "Data pre-processing involves tasks like cleaning, transforming, and normalizing data to make it suitable for machine learning algorithms."
   ]
  },
  {
   "cell_type": "markdown",
   "id": "8a9a6ea8",
   "metadata": {},
   "source": [
    "# 2. Describe quantitative and qualitative data in depth. Make a distinction between the two."
   ]
  },
  {
   "cell_type": "markdown",
   "id": "05f8cb1a",
   "metadata": {},
   "source": [
    "Quantitative data is numerical and represents quantities or measurements. \n",
    "Qualitative data, on the other hand, is categorical and represents qualities or attributes. \n",
    "\n",
    "Quantitative data can be further divided into discrete (countable) and continuous (measurable) data, while qualitative data includes nominal (categories with no order) and ordinal (categories with a specific order) data."
   ]
  },
  {
   "cell_type": "markdown",
   "id": "a510a8a7",
   "metadata": {},
   "source": [
    "# 3. Create a basic data collection that includes some sample records. Have at least one attribute from each of the machine learning data types."
   ]
  },
  {
   "cell_type": "markdown",
   "id": "36e8ae43",
   "metadata": {},
   "source": [
    "Below are a basic data collections.\n",
    "\n",
    "| Age | Gender | Income | Education | Product Rating |\n",
    "|-----|--------|--------|-----------|-----------------|\n",
    "| 25  | Male   | 50000  | High School | 4.2          |\n",
    "| 30  | Female | 60000  | Bachelor's | 4.8          |\n",
    "| 35  | Male   | 75000  | Master's   | 3.9          |\n",
    "| 28  | Female | 55000  | PhD        | 4.5          |\n",
    "\n",
    "Age is a quantitative attribute representing the age of individuals.\n",
    "\n",
    "Gender is a nominal categorical attribute representing the gender of individuals.\n",
    "\n",
    "Income is a quantitative attribute representing the annual income.\n",
    "\n",
    "Education is an ordinal categorical attribute representing the educational level.\n",
    "\n",
    "Product Rating is a quantitative attribute representing the rating of a product."
   ]
  },
  {
   "cell_type": "markdown",
   "id": "e00c6e11",
   "metadata": {},
   "source": [
    "# 4. What are the various causes of machine learning data issues? What are the ramifications?"
   ]
  },
  {
   "cell_type": "markdown",
   "id": "89164125",
   "metadata": {},
   "source": [
    "Data issues can be caused by missing values, outliers, noise, imbalanced data, and more. \n",
    "\n",
    "These issues can lead to inaccurate models, biased predictions, and reduced model performance."
   ]
  },
  {
   "cell_type": "markdown",
   "id": "4c4d661f",
   "metadata": {},
   "source": [
    "# 5. Demonstrate various approaches to categorical data exploration with appropriate examples."
   ]
  },
  {
   "cell_type": "markdown",
   "id": "43f30531",
   "metadata": {},
   "source": [
    "Categorical data exploration includes frequency tables, bar charts, and cross-tabulations. \n",
    "\n",
    "For example, you can create a bar chart to show the distribution of car types in a dataset."
   ]
  },
  {
   "cell_type": "markdown",
   "id": "9d915d1e",
   "metadata": {},
   "source": [
    "# 6. How would the learning activity be affected if certain variables have missing values? Having said that, what can be done about it?"
   ]
  },
  {
   "cell_type": "markdown",
   "id": "a1caa77a",
   "metadata": {},
   "source": [
    "Missing values can lead to biased models. You can handle them by imputing missing values with the mean, median, or a predictive model, or by removing rows or columns with missing data."
   ]
  },
  {
   "cell_type": "markdown",
   "id": "ccd5466b",
   "metadata": {},
   "source": [
    "# 7. Describe the various methods for dealing with missing data values in depth."
   ]
  },
  {
   "cell_type": "markdown",
   "id": "65821f2d",
   "metadata": {},
   "source": [
    "Methods for dealing with missing data include imputation, deletion, and advanced techniques like multiple imputations. Imputation involves replacing missing values, while deletion removes incomplete records."
   ]
  },
  {
   "cell_type": "markdown",
   "id": "167a9f08",
   "metadata": {},
   "source": [
    "# 8. What are the various data pre-processing techniques? Explain dimensionality reduction and function selection in a few words."
   ]
  },
  {
   "cell_type": "markdown",
   "id": "86844cdd",
   "metadata": {},
   "source": [
    "Data pre-processing techniques include data cleaning, normalization, and transformation. Dimensionality reduction reduces the number of features in the data, while feature selection selects the most relevant features for modeling."
   ]
  },
  {
   "cell_type": "markdown",
   "id": "c3c19227",
   "metadata": {},
   "source": [
    "# 9. i. What is the IQR? What criteria are used to assess it?                                  ii. Describe the various components of a box plot in detail? When will the lower whisker    surpass the upper whisker in length? How can box plots be used to identify outliers?"
   ]
  },
  {
   "cell_type": "markdown",
   "id": "3cc859fc",
   "metadata": {},
   "source": [
    "IQR (Interquartile Range) is the range between the first quartile (Q1) and the third quartile (Q3) of a dataset. It's used to assess the spread and variability of data. Outliers can be identified based on IQR using the 1.5x IQR rule."
   ]
  },
  {
   "cell_type": "markdown",
   "id": "6039cce3",
   "metadata": {},
   "source": [
    "A box plot consists of a box (IQR), whiskers, and potential outliers. The lower whisker can surpass the upper whisker if the data is negatively skewed. Outliers are identified as points outside the whiskers."
   ]
  },
  {
   "cell_type": "markdown",
   "id": "ab5af819",
   "metadata": {},
   "source": [
    "# 10. Make brief notes on any two of the following:  1. Data collected at regular intervals 2. The gap between the quartiles 3. Use a cross-tab\n"
   ]
  },
  {
   "cell_type": "markdown",
   "id": "b3ac8b24",
   "metadata": {},
   "source": [
    "Data collected at regular intervals: Data collected at regular intervals like time series data can be used for forecasting and trend analysis. It's essential for understanding changes over time.\n",
    "\n",
    "The gap between the quartiles: The gap between quartiles (IQR) represents the spread of the middle 50% of data. A larger IQR indicates greater variability, while a smaller IQR implies less variability.\n",
    "\n",
    "Use a cross-tab: A cross-tabulation (crosstab or contingency table) is used to analyze relationships between categorical variables. It displays the frequency of combinations between two or more categorical variables, aiding in understanding associations."
   ]
  },
  {
   "cell_type": "markdown",
   "id": "04a99db0",
   "metadata": {},
   "source": [
    "# 11. Make a comparison between: 1. Data with nominal and ordinal values 2. Histogram and box plot 3. The average and median\n"
   ]
  },
  {
   "cell_type": "markdown",
   "id": "38febec7",
   "metadata": {},
   "source": [
    "1. Data with Nominal and Ordinal Values:\n",
    "\n",
    "Nominal Data: Nominal data consists of categories or labels with no inherent order or ranking. For example, colors (red, blue, green) or types of fruits (apple, banana, orange) are nominal data. You can't say one category is better or worse than another; they are just different.\n",
    "\n",
    "Ordinal Data: Ordinal data, on the other hand, consists of categories or labels with a specific order or ranking. For example, education levels (high school, bachelor's, master's, PhD) are ordinal data. You can say that a person with a PhD has a higher education level than someone with a high school diploma.\n",
    "\n",
    "2. Histogram and Box Plot:\n",
    "\n",
    "Histogram: A histogram is a graphical representation of the distribution of numerical data. It shows the frequency or count of data points within specific intervals (or bins) along the number line. It provides insights into the shape and spread of the data.\n",
    "\n",
    "Box Plot (Box-and-Whisker Plot): A box plot is another graphical representation of data distribution, often used for summarizing and comparing datasets. It displays the median, quartiles, and potential outliers in a compact form. It's particularly useful for identifying skewness and outliers in the data.\n",
    "\n",
    "3. The Average and Median:\n",
    "\n",
    "Average (Mean): The average (or mean) is a measure of central tendency. It's calculated by adding up all values in a dataset and then dividing by the number of values. The mean is sensitive to extreme values or outliers and it may not represent the typical value if the data is skewed.\n",
    "\n",
    "Median: The median is another measure of central tendency. It is the middle value when data is sorted in order. If there's an even number of data points the median is the average of the two middle values. The median is less affected by extreme values and provides a better representation of the typical value when there are outliers in the data."
   ]
  },
  {
   "cell_type": "markdown",
   "id": "dda7d5b1",
   "metadata": {},
   "source": [
    "# Done all 11 questions "
   ]
  },
  {
   "cell_type": "markdown",
   "id": "a04469f9",
   "metadata": {},
   "source": [
    "# Regards,Yashwant"
   ]
  }
 ],
 "metadata": {
  "kernelspec": {
   "display_name": "Python 3 (ipykernel)",
   "language": "python",
   "name": "python3"
  },
  "language_info": {
   "codemirror_mode": {
    "name": "ipython",
    "version": 3
   },
   "file_extension": ".py",
   "mimetype": "text/x-python",
   "name": "python",
   "nbconvert_exporter": "python",
   "pygments_lexer": "ipython3",
   "version": "3.9.13"
  }
 },
 "nbformat": 4,
 "nbformat_minor": 5
}
